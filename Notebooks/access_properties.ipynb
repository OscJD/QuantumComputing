{
 "cells": [
  {
   "cell_type": "code",
   "execution_count": 1,
   "id": "6e97384c-965b-4dc8-85f6-3d9438e46d72",
   "metadata": {},
   "outputs": [
    {
     "name": "stderr",
     "output_type": "stream",
     "text": [
      "<frozen importlib._bootstrap>:219: RuntimeWarning: scipy._lib.messagestream.MessageStream size changed, may indicate binary incompatibility. Expected 56 from C header, got 64 from PyObject\n"
     ]
    }
   ],
   "source": [
    "import numpy as np\n",
    "\n",
    "# Importing standard Qiskit libraries\n",
    "from qiskit import QuantumCircuit, transpile, Aer, IBMQ\n",
    "from qiskit.tools.jupyter import *\n",
    "from qiskit.visualization import *\n",
    "from ibm_quantum_widgets import *\n",
    "from qiskit.providers.aer import QasmSimulator\n",
    "\n",
    "# Loading your IBM Quantum account(s)\n",
    "provider = IBMQ.load_account()"
   ]
  },
  {
   "cell_type": "code",
   "execution_count": 3,
   "id": "156f3f45-0398-4ff4-82f6-c2ebe3b69c43",
   "metadata": {},
   "outputs": [
    {
     "data": {
      "text/plain": [
       "[AerSimulator('aer_simulator'),\n",
       " AerSimulator('aer_simulator_statevector'),\n",
       " AerSimulator('aer_simulator_density_matrix'),\n",
       " AerSimulator('aer_simulator_stabilizer'),\n",
       " AerSimulator('aer_simulator_matrix_product_state'),\n",
       " AerSimulator('aer_simulator_extended_stabilizer'),\n",
       " AerSimulator('aer_simulator_unitary'),\n",
       " AerSimulator('aer_simulator_superop'),\n",
       " QasmSimulator('qasm_simulator'),\n",
       " StatevectorSimulator('statevector_simulator'),\n",
       " UnitarySimulator('unitary_simulator'),\n",
       " PulseSimulator('pulse_simulator')]"
      ]
     },
     "execution_count": 3,
     "metadata": {},
     "output_type": "execute_result"
    }
   ],
   "source": [
    "# Show simulators \n",
    "Aer.backends()"
   ]
  },
  {
   "cell_type": "code",
   "execution_count": 6,
   "id": "747e0b3c-753e-4d30-9174-8cec51526540",
   "metadata": {},
   "outputs": [],
   "source": [
    "# We will check for real quentum computers\n",
    "provider = IBMQ.get_provider(\"ibm-q\")"
   ]
  },
  {
   "cell_type": "code",
   "execution_count": 7,
   "id": "98e36425-f191-4acb-8acf-b2ea86add24c",
   "metadata": {},
   "outputs": [
    {
     "data": {
      "text/plain": [
       "[<IBMQSimulator('ibmq_qasm_simulator') from IBMQ(hub='ibm-q', group='open', project='main')>,\n",
       " <IBMQBackend('ibmq_armonk') from IBMQ(hub='ibm-q', group='open', project='main')>,\n",
       " <IBMQBackend('ibmq_santiago') from IBMQ(hub='ibm-q', group='open', project='main')>,\n",
       " <IBMQBackend('ibmq_bogota') from IBMQ(hub='ibm-q', group='open', project='main')>,\n",
       " <IBMQBackend('ibmq_lima') from IBMQ(hub='ibm-q', group='open', project='main')>,\n",
       " <IBMQBackend('ibmq_belem') from IBMQ(hub='ibm-q', group='open', project='main')>,\n",
       " <IBMQBackend('ibmq_quito') from IBMQ(hub='ibm-q', group='open', project='main')>,\n",
       " <IBMQSimulator('simulator_statevector') from IBMQ(hub='ibm-q', group='open', project='main')>,\n",
       " <IBMQSimulator('simulator_mps') from IBMQ(hub='ibm-q', group='open', project='main')>,\n",
       " <IBMQSimulator('simulator_extended_stabilizer') from IBMQ(hub='ibm-q', group='open', project='main')>,\n",
       " <IBMQSimulator('simulator_stabilizer') from IBMQ(hub='ibm-q', group='open', project='main')>,\n",
       " <IBMQBackend('ibmq_manila') from IBMQ(hub='ibm-q', group='open', project='main')>]"
      ]
     },
     "execution_count": 7,
     "metadata": {},
     "output_type": "execute_result"
    }
   ],
   "source": [
    "provider.backends()"
   ]
  },
  {
   "cell_type": "code",
   "execution_count": 17,
   "id": "74c75ab2-bf72-4ccf-a1fb-31ce2563e5a4",
   "metadata": {},
   "outputs": [
    {
     "name": "stdout",
     "output_type": "stream",
     "text": [
      "ibmq_qasm_simulator : 9 pending jobs & simulated qubits\n",
      "ibmq_armonk : 0 pending jobs & 1 qubits\n",
      "ibmq_santiago : 2021 pending jobs & 5 qubits\n",
      "ibmq_bogota : 30 pending jobs & 5 qubits\n",
      "ibmq_lima : 11 pending jobs & 5 qubits\n",
      "ibmq_belem : 4 pending jobs & 5 qubits\n",
      "ibmq_quito : 23 pending jobs & 5 qubits\n",
      "simulator_statevector : 10 pending jobs & simulated qubits\n",
      "simulator_mps : 10 pending jobs & simulated qubits\n",
      "simulator_extended_stabilizer : 10 pending jobs & simulated qubits\n",
      "simulator_stabilizer : 10 pending jobs & simulated qubits\n",
      "ibmq_manila : 23 pending jobs & 5 qubits\n"
     ]
    }
   ],
   "source": [
    "for backend in provider.backends():\n",
    "    try:\n",
    "        qubit_count = len(backend.properties().qubits)\n",
    "    except:\n",
    "        qubit_count = \"simulated\"\n",
    "    print(f\"{backend.name()} : {backend.status().pending_jobs} pending jobs & {qubit_count} qubits\")"
   ]
  },
  {
   "cell_type": "code",
   "execution_count": null,
   "id": "cef6f35d-7ec1-4174-b2ea-5e78339952de",
   "metadata": {},
   "outputs": [],
   "source": []
  }
 ],
 "metadata": {
  "kernelspec": {
   "display_name": "Qiskit v0.34.2 (ipykernel)",
   "language": "python",
   "name": "python3"
  },
  "language_info": {
   "codemirror_mode": {
    "name": "ipython",
    "version": 3
   },
   "file_extension": ".py",
   "mimetype": "text/x-python",
   "name": "python",
   "nbconvert_exporter": "python",
   "pygments_lexer": "ipython3",
   "version": "3.8.12"
  },
  "widgets": {
   "application/vnd.jupyter.widget-state+json": {
    "state": {
     "1fcc853fd7ed4eb5bed5433f5e8789ed": {
      "model_module": "@jupyter-widgets/base",
      "model_module_version": "1.2.0",
      "model_name": "LayoutModel",
      "state": {
       "width": "190px"
      }
     },
     "28afa9e38ff14326a4d4350717c86d53": {
      "model_module": "@jupyter-widgets/base",
      "model_module_version": "1.2.0",
      "model_name": "LayoutModel",
      "state": {
       "grid_area": "right",
       "padding": "0px 0px 0px 0px",
       "width": "70px"
      }
     },
     "29da46ccd320478bbe99e7902fa8e71f": {
      "model_module": "@jupyter-widgets/controls",
      "model_module_version": "1.5.0",
      "model_name": "HTMLModel",
      "state": {
       "layout": "IPY_MODEL_75d60a3111ea46398eabf1ae4da3fe07",
       "style": "IPY_MODEL_6f12793ea2514768b1fc62629afb6263",
       "value": "<h5>Status</h5>"
      }
     },
     "2aef6462cb0c4d6d9759a86681123f82": {
      "model_module": "@jupyter-widgets/base",
      "model_module_version": "1.2.0",
      "model_name": "LayoutModel",
      "state": {
       "margin": "0px 0px 0px 37px",
       "width": "600px"
      }
     },
     "2bcbb803b7bf419293a80f866e23fb98": {
      "model_module": "@jupyter-widgets/controls",
      "model_module_version": "1.5.0",
      "model_name": "HBoxModel",
      "state": {
       "children": [
        "IPY_MODEL_4f40e2be233b4c2f8c94bb171d2a909e",
        "IPY_MODEL_7af51b730d5444d08cc56dab31da48cb",
        "IPY_MODEL_29da46ccd320478bbe99e7902fa8e71f",
        "IPY_MODEL_37bd1df98faa4b75a235e1a5a9e4b8f2",
        "IPY_MODEL_608557b085a1414d8ce69ea8b046ab55"
       ],
       "layout": "IPY_MODEL_2aef6462cb0c4d6d9759a86681123f82"
      }
     },
     "2fbf8ba29a1a4007979a567d5b6b23ad": {
      "model_module": "@jupyter-widgets/controls",
      "model_module_version": "1.5.0",
      "model_name": "ButtonStyleModel",
      "state": {}
     },
     "3313a565a23e4fe9a003b5412fe249bc": {
      "model_module": "@jupyter-widgets/controls",
      "model_module_version": "1.5.0",
      "model_name": "HTMLModel",
      "state": {
       "layout": "IPY_MODEL_4b9a84e866834a13a43d0ec66705c262",
       "style": "IPY_MODEL_dc9dd977478e4aaea8d6ed9f68bd20c9",
       "value": "<p style='font-family: IBM Plex Sans, Arial, Helvetica, sans-serif; font-size: 20px; font-weight: medium;'>Circuit Properties</p>"
      }
     },
     "35a3c0188af34158aad28dbb652f9a36": {
      "model_module": "@jupyter-widgets/controls",
      "model_module_version": "1.5.0",
      "model_name": "DescriptionStyleModel",
      "state": {
       "description_width": ""
      }
     },
     "364f09b91bc9458b80dface943eeb28e": {
      "model_module": "@jupyter-widgets/base",
      "model_module_version": "1.2.0",
      "model_name": "LayoutModel",
      "state": {}
     },
     "37bd1df98faa4b75a235e1a5a9e4b8f2": {
      "model_module": "@jupyter-widgets/controls",
      "model_module_version": "1.5.0",
      "model_name": "HTMLModel",
      "state": {
       "layout": "IPY_MODEL_8669eb04ff4c46a9875faa2ede60fee6",
       "style": "IPY_MODEL_4e16ee26ce8a43ecab0645af3c6e0a71",
       "value": "<h5>Queue</h5>"
      }
     },
     "4b9a84e866834a13a43d0ec66705c262": {
      "model_module": "@jupyter-widgets/base",
      "model_module_version": "1.2.0",
      "model_name": "LayoutModel",
      "state": {
       "margin": "0px 0px 10px 0px"
      }
     },
     "4e16ee26ce8a43ecab0645af3c6e0a71": {
      "model_module": "@jupyter-widgets/controls",
      "model_module_version": "1.5.0",
      "model_name": "DescriptionStyleModel",
      "state": {
       "description_width": ""
      }
     },
     "4f40e2be233b4c2f8c94bb171d2a909e": {
      "model_module": "@jupyter-widgets/controls",
      "model_module_version": "1.5.0",
      "model_name": "HTMLModel",
      "state": {
       "layout": "IPY_MODEL_1fcc853fd7ed4eb5bed5433f5e8789ed",
       "style": "IPY_MODEL_66359c86a5a34b49ab3c305744e8d679",
       "value": "<h5>Job ID</h5>"
      }
     },
     "54cfc34647914ca9812d5c403805dd18": {
      "model_module": "@jupyter-widgets/base",
      "model_module_version": "1.2.0",
      "model_name": "LayoutModel",
      "state": {
       "width": "145px"
      }
     },
     "608557b085a1414d8ce69ea8b046ab55": {
      "model_module": "@jupyter-widgets/controls",
      "model_module_version": "1.5.0",
      "model_name": "HTMLModel",
      "state": {
       "layout": "IPY_MODEL_364f09b91bc9458b80dface943eeb28e",
       "style": "IPY_MODEL_35a3c0188af34158aad28dbb652f9a36",
       "value": "<h5>Message</h5>"
      }
     },
     "66359c86a5a34b49ab3c305744e8d679": {
      "model_module": "@jupyter-widgets/controls",
      "model_module_version": "1.5.0",
      "model_name": "DescriptionStyleModel",
      "state": {
       "description_width": ""
      }
     },
     "6f12793ea2514768b1fc62629afb6263": {
      "model_module": "@jupyter-widgets/controls",
      "model_module_version": "1.5.0",
      "model_name": "DescriptionStyleModel",
      "state": {
       "description_width": ""
      }
     },
     "75d60a3111ea46398eabf1ae4da3fe07": {
      "model_module": "@jupyter-widgets/base",
      "model_module_version": "1.2.0",
      "model_name": "LayoutModel",
      "state": {
       "width": "95px"
      }
     },
     "76d60d4ea832401d940b6f1f1b6a3810": {
      "model_module": "@jupyter-widgets/controls",
      "model_module_version": "1.5.0",
      "model_name": "DescriptionStyleModel",
      "state": {
       "description_width": ""
      }
     },
     "7af51b730d5444d08cc56dab31da48cb": {
      "model_module": "@jupyter-widgets/controls",
      "model_module_version": "1.5.0",
      "model_name": "HTMLModel",
      "state": {
       "layout": "IPY_MODEL_54cfc34647914ca9812d5c403805dd18",
       "style": "IPY_MODEL_76d60d4ea832401d940b6f1f1b6a3810",
       "value": "<h5>Backend</h5>"
      }
     },
     "8669eb04ff4c46a9875faa2ede60fee6": {
      "model_module": "@jupyter-widgets/base",
      "model_module_version": "1.2.0",
      "model_name": "LayoutModel",
      "state": {
       "width": "70px"
      }
     },
     "d20ea265aa194787aee80ed95d93a1ec": {
      "model_module": "@jupyter-widgets/controls",
      "model_module_version": "1.5.0",
      "model_name": "GridBoxModel",
      "state": {
       "children": [
        "IPY_MODEL_d3c595fcf0bd4be88d74ca47604d0414"
       ],
       "layout": "IPY_MODEL_ec3f3cc9b79a4df58b9c2d132cd30be2"
      }
     },
     "d3c595fcf0bd4be88d74ca47604d0414": {
      "model_module": "@jupyter-widgets/controls",
      "model_module_version": "1.5.0",
      "model_name": "ButtonModel",
      "state": {
       "button_style": "primary",
       "description": "Clear",
       "layout": "IPY_MODEL_28afa9e38ff14326a4d4350717c86d53",
       "style": "IPY_MODEL_2fbf8ba29a1a4007979a567d5b6b23ad"
      }
     },
     "dc9dd977478e4aaea8d6ed9f68bd20c9": {
      "model_module": "@jupyter-widgets/controls",
      "model_module_version": "1.5.0",
      "model_name": "DescriptionStyleModel",
      "state": {
       "description_width": ""
      }
     },
     "ec3f3cc9b79a4df58b9c2d132cd30be2": {
      "model_module": "@jupyter-widgets/base",
      "model_module_version": "1.2.0",
      "model_name": "LayoutModel",
      "state": {
       "grid_template_areas": "\n                                       \". . . . right \"\n                                        ",
       "grid_template_columns": "20% 20% 20% 20% 20%",
       "width": "100%"
      }
     }
    },
    "version_major": 2,
    "version_minor": 0
   }
  }
 },
 "nbformat": 4,
 "nbformat_minor": 5
}
